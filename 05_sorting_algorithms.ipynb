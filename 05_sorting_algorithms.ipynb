{
 "cells": [
  {
   "cell_type": "markdown",
   "metadata": {},
   "source": [
    "**Question 1:** You're working on a new feature called \"Top Notebooks of the week\". Write a function to sort a list of notebooks in decreasing order of likes. Keep in mind that up to millions of notebooks can be created every week, so your function need to be as efficient as possible."
   ]
  },
  {
   "cell_type": "markdown",
   "metadata": {},
   "source": [
    "**Question 2:** Write a program to sort a list of numbers."
   ]
  },
  {
   "cell_type": "markdown",
   "metadata": {},
   "source": [
    "#### 1. State the problem clearly. Identify the input and ouput formats.\n",
    "\n",
    "\n",
    "**Problem -**\n",
    "> We need to write a function to sort a list of numbers in ascending order.\n",
    "\n",
    "**Input -**\n",
    "`nums`: A list of numbers e.g. [4, 2, 6, 3, 4, 6, 2, 1]\n",
    "\n",
    "**Output -**\n",
    "`sorted_nums`: The sorted version of `nums` e.g. `[1, 2, 2, 3, 4, 4, 6, 6]`"
   ]
  },
  {
   "cell_type": "code",
   "execution_count": 1,
   "metadata": {},
   "outputs": [],
   "source": [
    "def sort(nums):\n",
    "    pass"
   ]
  },
  {
   "cell_type": "markdown",
   "metadata": {},
   "source": [
    "#### 2. Come up with some example inputs and outputs. Try to cover all edge cases."
   ]
  },
  {
   "cell_type": "code",
   "execution_count": 2,
   "metadata": {},
   "outputs": [],
   "source": [
    "# List of numbers in random order\n",
    "test0 = {\n",
    "    \"input\": {\n",
    "        \"nums\": [4, 2, 6, 3, 4, 6, 2, 1]\n",
    "    },\n",
    "    \"output\": [1, 2, 2, 3, 4, 4, 6, 6]\n",
    "}"
   ]
  },
  {
   "cell_type": "code",
   "execution_count": 3,
   "metadata": {},
   "outputs": [],
   "source": [
    "# List of numbers in random order\n",
    "test1 = {\n",
    "    \"input\": {\n",
    "        \"nums\": [5, 2, 6, 1, 23, 7, -12, 12, -243, 0]\n",
    "    },\n",
    "    \"output\": [-243, -12, 0, 1, 2, 5, 6, 7, 12, 23]\n",
    "}"
   ]
  },
  {
   "cell_type": "code",
   "execution_count": 4,
   "metadata": {},
   "outputs": [],
   "source": [
    "# A list that is already sorted\n",
    "test2 = {\n",
    "    \"input\": {\n",
    "        \"nums\": [3, 5, 6 , 8, 9, 10, 99]\n",
    "    },\n",
    "    \"output\": [3, 5, 6 , 8, 9, 10, 99]\n",
    "}"
   ]
  },
  {
   "cell_type": "code",
   "execution_count": 5,
   "metadata": {},
   "outputs": [],
   "source": [
    "# A list that is sorted in descending order \n",
    "test3 = {\n",
    "    \"input\": {\n",
    "        \"nums\": [99, 10, 9, 8, 6, 5, 3]\n",
    "    },\n",
    "    \"output\": [3, 5, 6 , 8, 9, 10, 99]\n",
    "}"
   ]
  },
  {
   "cell_type": "code",
   "execution_count": 6,
   "metadata": {},
   "outputs": [],
   "source": [
    "# A list containing repeating elements\n",
    "test4 = {\n",
    "    \"input\": {\n",
    "        \"nums\": [5, -12, 2, 6, 1, 23, 7, 7, -12, 6, 12, 1, -243, 1, 0]\n",
    "    },\n",
    "    \"output\": [-243, -12, -12, 0, 1, 1, 1, 2, 5, 6, 6, 7, 7, 12, 23]\n",
    "}"
   ]
  },
  {
   "cell_type": "code",
   "execution_count": 7,
   "metadata": {},
   "outputs": [],
   "source": [
    "# An empty list\n",
    "test5 = {\n",
    "    \"input\": {\n",
    "        \"nums\": []\n",
    "    },\n",
    "    \"output\": []\n",
    "}"
   ]
  },
  {
   "cell_type": "code",
   "execution_count": 8,
   "metadata": {},
   "outputs": [],
   "source": [
    "# A list containing just one element\n",
    "test6 = {\n",
    "    \"input\": {\n",
    "        \"nums\": [23]\n",
    "    },\n",
    "    \"output\": [23]\n",
    "}"
   ]
  },
  {
   "cell_type": "code",
   "execution_count": 9,
   "metadata": {},
   "outputs": [],
   "source": [
    "# A list containing single number repeated many many times\n",
    "test7 = {\n",
    "    \"input\": {\n",
    "        \"nums\": [42, 42, 42, 42, 42, 42, 42, 42]\n",
    "    },\n",
    "    \"output\": [42, 42, 42, 42, 42, 42, 42, 42]\n",
    "}"
   ]
  },
  {
   "cell_type": "code",
   "execution_count": 10,
   "metadata": {},
   "outputs": [],
   "source": [
    "# A really long list\n",
    "import random\n",
    "\n",
    "in_list = list(range(10_000))\n",
    "out_list = list(range(10_000))\n",
    "random.shuffle(in_list)\n",
    "\n",
    "test8 = {\n",
    "    \"input\": {\n",
    "        \"nums\": in_list\n",
    "    },\n",
    "    \"output\": out_list\n",
    "}"
   ]
  },
  {
   "cell_type": "code",
   "execution_count": 11,
   "metadata": {},
   "outputs": [],
   "source": [
    "tests = [test0, test1, test2, test3, test4, test5, test6, test7, test8]"
   ]
  },
  {
   "cell_type": "markdown",
   "metadata": {},
   "source": [
    "#### 3. Come up with a correct solution for the problem. State it in plain English.\n",
    "\n",
    "It's easy to come up with a correct solution. Here's one:\n",
    "1. Iterate over the list of numbers, starting from the left.\n",
    "2. Compare each number with the number that follows it.\n",
    "3. If the number is grater than the one the follows it, swap the 2 numbers.\n",
    "4. Repeat steps from 1 to 3 till the list is sorted.\n",
    "\n",
    "This method is called **bubble sort**."
   ]
  },
  {
   "cell_type": "markdown",
   "metadata": {},
   "source": [
    "#### 4. Implement the solution and test it using example inputs. Fix bugs, if any."
   ]
  },
  {
   "cell_type": "code",
   "execution_count": 12,
   "metadata": {},
   "outputs": [],
   "source": [
    "def bubble_sort(nums):\n",
    "    # Create a copy of the list, to avoid changing it\n",
    "    nums = list(nums)\n",
    "\n",
    "    for _ in range(len(nums) - 1):\n",
    "        for i in range(len(nums) - 1):\n",
    "            if nums[i] > nums[i+1]:\n",
    "                nums[i], nums[i+1] = nums[i+1], nums[i]\n",
    "    \n",
    "    return nums"
   ]
  },
  {
   "cell_type": "code",
   "execution_count": 13,
   "metadata": {},
   "outputs": [
    {
     "data": {
      "application/javascript": "if (window.IPython && IPython.notebook.kernel) IPython.notebook.kernel.execute('jovian.utils.jupyter.get_notebook_name_saved = lambda: \"' + IPython.notebook.notebook_name + '\"')",
      "text/plain": [
       "<IPython.core.display.Javascript object>"
      ]
     },
     "metadata": {},
     "output_type": "display_data"
    }
   ],
   "source": [
    "from jovian.pythondsa import evaluate_test_cases"
   ]
  },
  {
   "cell_type": "code",
   "execution_count": 14,
   "metadata": {},
   "outputs": [
    {
     "name": "stdout",
     "output_type": "stream",
     "text": [
      "\n",
      "\u001b[1mTEST CASE #0\u001b[0m\n",
      "\n",
      "Input:\n",
      "{'nums': [4, 2, 6, 3, 4, 6, 2, 1]}\n",
      "\n",
      "Expected Output:\n",
      "[1, 2, 2, 3, 4, 4, 6, 6]\n",
      "\n",
      "\n",
      "Actual Output:\n",
      "[1, 2, 2, 3, 4, 4, 6, 6]\n",
      "\n",
      "Execution Time:\n",
      "0.021 ms\n",
      "\n",
      "Test Result:\n",
      "\u001b[92mPASSED\u001b[0m\n",
      "\n",
      "\n",
      "\u001b[1mTEST CASE #1\u001b[0m\n",
      "\n",
      "Input:\n",
      "{'nums': [5, 2, 6, 1, 23, 7, -12, 12, -243, 0]}\n",
      "\n",
      "Expected Output:\n",
      "[-243, -12, 0, 1, 2, 5, 6, 7, 12, 23]\n",
      "\n",
      "\n",
      "Actual Output:\n",
      "[-243, -12, 0, 1, 2, 5, 6, 7, 12, 23]\n",
      "\n",
      "Execution Time:\n",
      "0.015 ms\n",
      "\n",
      "Test Result:\n",
      "\u001b[92mPASSED\u001b[0m\n",
      "\n",
      "\n",
      "\u001b[1mTEST CASE #2\u001b[0m\n",
      "\n",
      "Input:\n",
      "{'nums': [3, 5, 6, 8, 9, 10, 99]}\n",
      "\n",
      "Expected Output:\n",
      "[3, 5, 6, 8, 9, 10, 99]\n",
      "\n",
      "\n",
      "Actual Output:\n",
      "[3, 5, 6, 8, 9, 10, 99]\n",
      "\n",
      "Execution Time:\n",
      "0.008 ms\n",
      "\n",
      "Test Result:\n",
      "\u001b[92mPASSED\u001b[0m\n",
      "\n",
      "\n",
      "\u001b[1mTEST CASE #3\u001b[0m\n",
      "\n",
      "Input:\n",
      "{'nums': [99, 10, 9, 8, 6, 5, 3]}\n",
      "\n",
      "Expected Output:\n",
      "[3, 5, 6, 8, 9, 10, 99]\n",
      "\n",
      "\n",
      "Actual Output:\n",
      "[3, 5, 6, 8, 9, 10, 99]\n",
      "\n",
      "Execution Time:\n",
      "0.012 ms\n",
      "\n",
      "Test Result:\n",
      "\u001b[92mPASSED\u001b[0m\n",
      "\n",
      "\n",
      "\u001b[1mTEST CASE #4\u001b[0m\n",
      "\n",
      "Input:\n",
      "{'nums': [5, -12, 2, 6, 1, 23, 7, 7, -12, 6, 12, 1, -243, 1, 0]}\n",
      "\n",
      "Expected Output:\n",
      "[-243, -12, -12, 0, 1, 1, 1, 2, 5, 6, 6, 7, 7, 12, 23]\n",
      "\n",
      "\n",
      "Actual Output:\n",
      "[-243, -12, -12, 0, 1, 1, 1, 2, 5, 6, 6, 7, 7, 12, 23]\n",
      "\n",
      "Execution Time:\n",
      "0.035 ms\n",
      "\n",
      "Test Result:\n",
      "\u001b[92mPASSED\u001b[0m\n",
      "\n",
      "\n",
      "\u001b[1mTEST CASE #5\u001b[0m\n",
      "\n",
      "Input:\n",
      "{'nums': []}\n",
      "\n",
      "Expected Output:\n",
      "[]\n",
      "\n",
      "\n",
      "Actual Output:\n",
      "[]\n",
      "\n",
      "Execution Time:\n",
      "0.003 ms\n",
      "\n",
      "Test Result:\n",
      "\u001b[92mPASSED\u001b[0m\n",
      "\n",
      "\n",
      "\u001b[1mTEST CASE #6\u001b[0m\n",
      "\n",
      "Input:\n",
      "{'nums': [23]}\n",
      "\n",
      "Expected Output:\n",
      "[23]\n",
      "\n",
      "\n",
      "Actual Output:\n",
      "[23]\n",
      "\n",
      "Execution Time:\n",
      "0.002 ms\n",
      "\n",
      "Test Result:\n",
      "\u001b[92mPASSED\u001b[0m\n",
      "\n",
      "\n",
      "\u001b[1mTEST CASE #7\u001b[0m\n",
      "\n",
      "Input:\n",
      "{'nums': [42, 42, 42, 42, 42, 42, 42, 42]}\n",
      "\n",
      "Expected Output:\n",
      "[42, 42, 42, 42, 42, 42, 42, 42]\n",
      "\n",
      "\n",
      "Actual Output:\n",
      "[42, 42, 42, 42, 42, 42, 42, 42]\n",
      "\n",
      "Execution Time:\n",
      "0.009 ms\n",
      "\n",
      "Test Result:\n",
      "\u001b[92mPASSED\u001b[0m\n",
      "\n",
      "\n",
      "\u001b[1mTEST CASE #8\u001b[0m\n",
      "\n",
      "Input:\n",
      "{'nums': [6846, 9722, 6125, 8547, 6937, 8598, 8482, 2645, 3003, 5798, 8657, 3846, 4073, 9994, 7248, ...\n",
      "\n",
      "Expected Output:\n",
      "[0, 1, 2, 3, 4, 5, 6, 7, 8, 9, 10, 11, 12, 13, 14, 15, 16, 17, 18, 19, 20, 21, 22, 23, 24, 25, 26, 2...\n",
      "\n",
      "\n",
      "Actual Output:\n",
      "[0, 1, 2, 3, 4, 5, 6, 7, 8, 9, 10, 11, 12, 13, 14, 15, 16, 17, 18, 19, 20, 21, 22, 23, 24, 25, 26, 2...\n",
      "\n",
      "Execution Time:\n",
      "10620.569 ms\n",
      "\n",
      "Test Result:\n",
      "\u001b[92mPASSED\u001b[0m\n",
      "\n",
      "\n",
      "\u001b[1mSUMMARY\u001b[0m\n",
      "\n",
      "TOTAL: 9, \u001b[92mPASSED\u001b[0m: 9, \u001b[91mFAILED\u001b[0m: 0\n"
     ]
    }
   ],
   "source": [
    "results = evaluate_test_cases(bubble_sort, tests)"
   ]
  },
  {
   "cell_type": "markdown",
   "metadata": {},
   "source": [
    "#### 5. Analyze the algorithm's complexity and identify inefficiencies, if any."
   ]
  },
  {
   "cell_type": "markdown",
   "metadata": {},
   "source": [
    "Time Complexity for the bubble sort algorithm is **O(n^2)**. (Also known as quadratic complexity)"
   ]
  },
  {
   "cell_type": "markdown",
   "metadata": {},
   "source": [
    "##### **Insertion sort**"
   ]
  },
  {
   "cell_type": "code",
   "execution_count": 24,
   "metadata": {},
   "outputs": [],
   "source": [
    "def insertion_sort(nums):\n",
    "    nums_1 = list(nums)\n",
    "    for i in range(len(nums_1)):\n",
    "        print(f\"First list: {nums}\")\n",
    "        print(f\"i: {i}\")\n",
    "        curr = nums_1.pop(i)\n",
    "        j = i - 1\n",
    "        print(f\"j: {j}\")\n",
    "        while j >= 0 and nums_1[j] > curr:\n",
    "            j -= 1\n",
    "        print(f\"Old list: {nums_1}\")\n",
    "        nums_1.insert(j+1, curr)\n",
    "        print(f\"New list: {nums_1}\")\n",
    "        print(\"*\"*50)\n",
    "    return nums_1"
   ]
  },
  {
   "cell_type": "code",
   "execution_count": 25,
   "metadata": {},
   "outputs": [
    {
     "name": "stdout",
     "output_type": "stream",
     "text": [
      "First list: [21, 12, 4, 6, 34, 23, 67, 9]\n",
      "i: 0\n",
      "j: -1\n",
      "old list: [12, 4, 6, 34, 23, 67, 9]\n",
      "New list: [21, 12, 4, 6, 34, 23, 67, 9]\n",
      "**************************************************\n",
      "First list: [21, 12, 4, 6, 34, 23, 67, 9]\n",
      "i: 1\n",
      "j: 0\n",
      "old list: [21, 4, 6, 34, 23, 67, 9]\n",
      "New list: [12, 21, 4, 6, 34, 23, 67, 9]\n",
      "**************************************************\n",
      "First list: [21, 12, 4, 6, 34, 23, 67, 9]\n",
      "i: 2\n",
      "j: 1\n",
      "old list: [12, 21, 6, 34, 23, 67, 9]\n",
      "New list: [4, 12, 21, 6, 34, 23, 67, 9]\n",
      "**************************************************\n",
      "First list: [21, 12, 4, 6, 34, 23, 67, 9]\n",
      "i: 3\n",
      "j: 2\n",
      "old list: [4, 12, 21, 34, 23, 67, 9]\n",
      "New list: [4, 6, 12, 21, 34, 23, 67, 9]\n",
      "**************************************************\n",
      "First list: [21, 12, 4, 6, 34, 23, 67, 9]\n",
      "i: 4\n",
      "j: 3\n",
      "old list: [4, 6, 12, 21, 23, 67, 9]\n",
      "New list: [4, 6, 12, 21, 34, 23, 67, 9]\n",
      "**************************************************\n",
      "First list: [21, 12, 4, 6, 34, 23, 67, 9]\n",
      "i: 5\n",
      "j: 4\n",
      "old list: [4, 6, 12, 21, 34, 67, 9]\n",
      "New list: [4, 6, 12, 21, 23, 34, 67, 9]\n",
      "**************************************************\n",
      "First list: [21, 12, 4, 6, 34, 23, 67, 9]\n",
      "i: 6\n",
      "j: 5\n",
      "old list: [4, 6, 12, 21, 23, 34, 9]\n",
      "New list: [4, 6, 12, 21, 23, 34, 67, 9]\n",
      "**************************************************\n",
      "First list: [21, 12, 4, 6, 34, 23, 67, 9]\n",
      "i: 7\n",
      "j: 6\n",
      "old list: [4, 6, 12, 21, 23, 34, 67]\n",
      "New list: [4, 6, 9, 12, 21, 23, 34, 67]\n",
      "**************************************************\n"
     ]
    },
    {
     "data": {
      "text/plain": [
       "[4, 6, 9, 12, 21, 23, 34, 67]"
      ]
     },
     "execution_count": 25,
     "metadata": {},
     "output_type": "execute_result"
    }
   ],
   "source": [
    "insertion_sort([21, 12, 4, 6, 34, 23, 67, 9])"
   ]
  },
  {
   "cell_type": "markdown",
   "metadata": {},
   "source": [
    "#### 6. Apply the right technique to overcome the inefficiency. Repeat steps 3 to 6.\n",
    "\n",
    "To perform sorting more efficiently, we'll apply a strategy called **Divide and Conquer**, which has the following steps:\n",
    "1. Divide the inputs into roughly 2 equal parts.\n",
    "2. Recursively solve the problem individually for each of the two parts.\n",
    "3. Combine the results to solve the problem for the original inputs.\n",
    "4. Include terminating conditions for small or indivisible inputs."
   ]
  },
  {
   "cell_type": "markdown",
   "metadata": {},
   "source": [
    "#### 7. Come up with a correct solution for the problem. State it in plain English."
   ]
  },
  {
   "cell_type": "markdown",
   "metadata": {},
   "source": [
    "##### Merge Sort\n",
    "Here's a step by step description for the merge sort.\n",
    "1. If the input list is empty or conatins just one element, it is already sorted. Return it.\n",
    "2. If not, divide the list of numbers into 2 roughly equal parts.\n",
    "3. Sort each part recursively using the merge sort algorithm. You'll get back 2 sorted lists.\n",
    "4. Merge the 2 sorted lists to get a single sorted list."
   ]
  },
  {
   "cell_type": "markdown",
   "metadata": {},
   "source": [
    "#### 8. Implement the solution and test it using example inputs. Fix bugs, if any."
   ]
  },
  {
   "cell_type": "code",
   "execution_count": 49,
   "metadata": {},
   "outputs": [],
   "source": [
    "def merge_sort(nums):\n",
    "\n",
    "    # If the list is empty or has a single number, return it\n",
    "    if len(nums) <= 1:\n",
    "        return nums\n",
    "    # Find the middle index\n",
    "    mid = len(nums) // 2\n",
    "    # Split the list into 2 halves\n",
    "    left = nums[:mid]\n",
    "    right = nums[mid:]\n",
    "    # Recursively sort both halves\n",
    "    left_sorted = merge_sort(left)\n",
    "    right_sorted = merge_sort(right)\n",
    "    # Merge the two sorted halves\n",
    "    sorted_nums = merge(left_sorted, right_sorted)\n",
    "\n",
    "    return sorted_nums\n",
    "\n",
    "def merge(nums1, nums2):\n",
    "    merged = []\n",
    "\n",
    "    i, j = 0, 0\n",
    "    # Compare elements in both lists and merge them in sorted order\n",
    "    while i < len(nums1) and j < len(nums2):\n",
    "        if nums1[i] <= nums2[j]:\n",
    "            merged.append(nums1[i])\n",
    "            i += 1\n",
    "        else:\n",
    "            merged.append(nums2[j])\n",
    "            j += 1\n",
    "    # Append the reianing elements from nums1\n",
    "    nums1_tail = nums1[i:]\n",
    "    # Append the reianing elements from nums2\n",
    "    nums2_tail = nums2[j:]\n",
    "    \n",
    "    return merged + nums1_tail + nums2_tail"
   ]
  },
  {
   "cell_type": "code",
   "execution_count": 50,
   "metadata": {},
   "outputs": [
    {
     "data": {
      "text/plain": [
       "[-1, 1, 2, 3, 4, 5, 6, 7, 8, 9]"
      ]
     },
     "execution_count": 50,
     "metadata": {},
     "output_type": "execute_result"
    }
   ],
   "source": [
    "merge([1, 2, 5, 7, 9], [-1, 3, 4, 6, 8])"
   ]
  },
  {
   "cell_type": "code",
   "execution_count": 51,
   "metadata": {},
   "outputs": [
    {
     "name": "stdout",
     "output_type": "stream",
     "text": [
      "Input: [4, 2, 6, 3, 4, 6, 2, 1]\n",
      "Expected output: [1, 2, 2, 3, 4, 4, 6, 6]\n",
      "Actual output: [1, 2, 2, 3, 4, 4, 6, 6]\n",
      "Match: True\n"
     ]
    }
   ],
   "source": [
    "nums0, output0 = test0[\"input\"][\"nums\"], test0[\"output\"]\n",
    "\n",
    "print(f\"Input: {nums0}\")\n",
    "print(f\"Expected output: {output0}\")\n",
    "result0 = merge_sort(nums0)\n",
    "print(f\"Actual output: {result0}\")\n",
    "print(f\"Match: {result0 == output0}\")"
   ]
  },
  {
   "cell_type": "code",
   "execution_count": null,
   "metadata": {},
   "outputs": [],
   "source": []
  }
 ],
 "metadata": {
  "kernelspec": {
   "display_name": "Python 3",
   "language": "python",
   "name": "python3"
  },
  "language_info": {
   "codemirror_mode": {
    "name": "ipython",
    "version": 3
   },
   "file_extension": ".py",
   "mimetype": "text/x-python",
   "name": "python",
   "nbconvert_exporter": "python",
   "pygments_lexer": "ipython3",
   "version": "3.11.8"
  }
 },
 "nbformat": 4,
 "nbformat_minor": 2
}
