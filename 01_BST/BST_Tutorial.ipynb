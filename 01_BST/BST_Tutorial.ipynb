{
 "cells": [
  {
   "cell_type": "markdown",
   "metadata": {},
   "source": [
    "A Binary Search Tree or BST is a data structure used in storing data in a sorted manner. The value of left child in a BST is alwys less than the parent node and the value of right node is always grater than the parent node. This means, that both the left-sub tree and right sub-tree are BST.\n",
    "\n",
    "This hierarchical structure helps in efficient Searching, Insertion, and deletion operations on the stored data in the tree."
   ]
  },
  {
   "cell_type": "markdown",
   "metadata": {},
   "source": [
    "Properties of Binary Search Tree:\n",
    "- The left subtree only contains the value which are less than the root node.\n",
    "- The right subtree on;ly contains the value which are greater than the root node.\n",
    "- This means, the value of everything on the left side of the root node is less than the value of root, similarly, the value of everything on the right side of the root node is greater than the value of root. This property of the BST makes it very efficient to use.\n",
    "- Both the left subtree and right subtree are a BST.\n",
    "- There are no duplicated nodes present in a BST."
   ]
  },
  {
   "cell_type": "markdown",
   "metadata": {},
   "source": [
    "Basic operations on BST:\n",
    "#### 1. Searching a node in BST:\n",
    "\n",
    "1. Comparing the value that to be searched with the root element of the tree.\n",
    "    - If the root is matched with the target value, then return the root location.\n",
    "    - If the root value is greater than the target value, that means the value lies in the left subtree.\n",
    "    - If the root value is less than the target value, that means the value lies in the right subtree.\n",
    "2. Repeat the above procedure recursively until the match is found.\n",
    "3. If the element is not found or not present in the tree, then return NULL."
   ]
  },
  {
   "cell_type": "code",
   "execution_count": 2,
   "metadata": {},
   "outputs": [],
   "source": [
    "# Defining a Tree\n",
    "class Node:\n",
    "    def __init__(self, key):\n",
    "        \"\"\"\n",
    "        At first we will initialise the tree's left and right node's as None\n",
    "        \"\"\"\n",
    "        self.key = key\n",
    "        self.left = None\n",
    "        self.right = None\n",
    "\n",
    "def search(root, key):\n",
    "    # If the root value is same to the key, return the root\n",
    "    if root is None or root.key == key:\n",
    "        return root\n",
    "    \n",
    "    # Key is greater than root's value\n",
    "    if root.key < key:\n",
    "        return search(root.right, key)\n",
    "    # Key is less than root's value\n",
    "    else:\n",
    "        return search(root.left, key)"
   ]
  },
  {
   "cell_type": "markdown",
   "metadata": {},
   "source": [
    "#### 2. Insert a node into a BST:\n",
    "A new key is always inserted into a leaf. Searching a key from the root till a leaf node. Once a leaf node is found, the new node is added as a child of he leaf node."
   ]
  },
  {
   "cell_type": "code",
   "execution_count": 3,
   "metadata": {},
   "outputs": [],
   "source": [
    "# Defining a Tree\n",
    "class Node:\n",
    "    def __init__(self, key):\n",
    "        \"\"\"\n",
    "        At first we will initialise the tree's left and right node's as None\n",
    "        \"\"\"\n",
    "        self.key = key\n",
    "        self.left = None\n",
    "        self.right = None\n",
    "\n",
    "def insert(node, key):\n",
    "    if node is None:\n",
    "        return Node(key)\n",
    "    \n",
    "    # If the key value is less than the value of the node, then move to the left subtree\n",
    "    if key < node.key:\n",
    "        node.left = insert(node.left, key)\n",
    "    # If the key value is more than the value of the node, then move to the right subtree\n",
    "    elif key > node.key:\n",
    "        node.right = insert(node.right, key)\n",
    "    return node"
   ]
  },
  {
   "cell_type": "markdown",
   "metadata": {},
   "source": [
    "#### 3. Delete a Node of BST:\n",
    "It is used to delete a node with specific key from the BST and return the new BST.\n",
    "\n",
    "Take care of the following things while deleting a node of the BST.\n",
    "1. Need to figure what will be the replacement of the node that needs to be deleted.\n",
    "2. Want minimum distruption to the existing tree.\n",
    "3. Can take the replacement from either the left node or right nnode.\n",
    "4. If taking the replacement value from the left subtree, we need to take the largest value from the lft subtree.\n",
    "5. If taking the replacement value from the right subtree, we need to take the smallest value from the right subtree."
   ]
  },
  {
   "cell_type": "code",
   "execution_count": null,
   "metadata": {},
   "outputs": [],
   "source": [
    "class Node:\n",
    "    def __init__(self, key):\n",
    "        self.key = key\n",
    "        self.left = None\n",
    "        self.right = None\n",
    "\n",
    "def minValueNode(node):\n",
    "    current = node\n",
    "\n",
    "    while current and current.left is not None:\n",
    "        current = current.left\n",
    "\n",
    "    return current\n",
    "\n",
    "def deleteNode(root, key):\n",
    "    if root is None:\n",
    "        return root\n",
    "    \n",
    "    if key < root.key:\n",
    "        root.left = deleteNode(root.left, key)\n",
    "    elif key > root.key:\n",
    "        root.right = deleteNode(root.right, key)\n",
    "\n",
    "    else:\n",
    "        if root.left is None:\n",
    "            temp = root.right\n",
    "            root = None\n",
    "            return temp\n",
    "        elif root.right is None:\n",
    "            temp = root.right\n",
    "            root = None\n",
    "            return temp\n",
    "        \n",
    "        temp = minValueNode(root.right)\n",
    "\n",
    "        root.key = temp.key\n",
    "\n",
    "        root.right = deleteNode(root.right, temp.key)\n",
    "\n",
    "    return root"
   ]
  }
 ],
 "metadata": {
  "kernelspec": {
   "display_name": "Python 3",
   "language": "python",
   "name": "python3"
  },
  "language_info": {
   "codemirror_mode": {
    "name": "ipython",
    "version": 3
   },
   "file_extension": ".py",
   "mimetype": "text/x-python",
   "name": "python",
   "nbconvert_exporter": "python",
   "pygments_lexer": "ipython3",
   "version": "3.11.8"
  }
 },
 "nbformat": 4,
 "nbformat_minor": 2
}
