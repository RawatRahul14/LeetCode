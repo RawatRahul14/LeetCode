{
 "cells": [
  {
   "cell_type": "markdown",
   "metadata": {},
   "source": [
    "### Self-Balancing Trees and AVL Trees\n",
    "\n",
    "A *self-balancing binary tree* remains balanced after insertion or deletion. Several decades of research has gone into creating self-balancing binary tree, and many approaches have been devised e.g. B-tree, Red Black Tree, and AVL (Adelson-Velsky Landis) Trees.\n",
    "\n",
    "Self-balancing in AVL tree is achieved by tracking the balance factor (difference between the height of left subtree and the right subtree) for each node and *rotating* unbalanced subtrees along the path of insertion/deletion to balnce them."
   ]
  },
  {
   "cell_type": "code",
   "execution_count": null,
   "metadata": {},
   "outputs": [],
   "source": []
  }
 ],
 "metadata": {
  "language_info": {
   "name": "python"
  }
 },
 "nbformat": 4,
 "nbformat_minor": 2
}
