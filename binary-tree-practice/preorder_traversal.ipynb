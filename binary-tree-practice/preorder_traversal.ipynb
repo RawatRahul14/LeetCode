{
 "cells": [
  {
   "cell_type": "code",
   "execution_count": 1,
   "metadata": {},
   "outputs": [],
   "source": [
    "class TreeNode:\n",
    "    def __init__(self, key):\n",
    "        self.key = key\n",
    "        self.left = None\n",
    "        self.right = None"
   ]
  },
  {
   "cell_type": "code",
   "execution_count": 5,
   "metadata": {},
   "outputs": [],
   "source": [
    "def parse_tuple(data):\n",
    "    if isinstance(data, tuple) and len(data) == 3:\n",
    "        node = TreeNode(data[1])\n",
    "        node.left = parse_tuple(data[0])\n",
    "        node.right = parse_tuple(data[2])\n",
    "\n",
    "    elif data is None:\n",
    "        node = TreeNode(data)\n",
    "    \n",
    "    else:\n",
    "        node = TreeNode(data)\n",
    "\n",
    "    return node"
   ]
  },
  {
   "cell_type": "code",
   "execution_count": 6,
   "metadata": {},
   "outputs": [
    {
     "data": {
      "text/plain": [
       "<__main__.TreeNode at 0x213fa6b0850>"
      ]
     },
     "execution_count": 6,
     "metadata": {},
     "output_type": "execute_result"
    }
   ],
   "source": [
    "tree = parse_tuple(((1, 3, None), 2, ((None, 3, 4), 5, (6, 7, 8))))\n",
    "tree"
   ]
  },
  {
   "cell_type": "code",
   "execution_count": 7,
   "metadata": {},
   "outputs": [
    {
     "name": "stdout",
     "output_type": "stream",
     "text": [
      "\t\t\t8\n",
      "\t\t7\n",
      "\t\t\t6\n",
      "\t5\n",
      "\t\t\t4\n",
      "\t\t3\n",
      "\t\t\tNone\n",
      "2\n",
      "\t\tNone\n",
      "\t3\n",
      "\t\t1\n"
     ]
    }
   ],
   "source": [
    "# Visualising the Binary Tree\n",
    "def display_keys(node, space = \"\\t\", level = 0):\n",
    "    if node is None:\n",
    "        print(space * level + \"None\")\n",
    "\n",
    "    if node.left is None and node.right is None:\n",
    "        print(space * level + str(node.key))\n",
    "        return\n",
    "    \n",
    "    display_keys(node.right, space, level + 1)\n",
    "    print(space * level + str(node.key))\n",
    "    display_keys(node.left, space, level + 1)\n",
    "\n",
    "display_keys(tree)"
   ]
  },
  {
   "cell_type": "code",
   "execution_count": 8,
   "metadata": {},
   "outputs": [],
   "source": [
    "def preorder_traverse(root):\n",
    "    if root is None:\n",
    "        return []\n",
    "    \n",
    "    result = []\n",
    "    stack = [root]\n",
    "\n",
    "    while stack:\n",
    "        current = stack.pop()\n",
    "        result.append(current.key)\n",
    "\n",
    "        if current.right:\n",
    "            stack.append(current.right)\n",
    "\n",
    "        if current.left:\n",
    "            stack.append(current.left)\n",
    "\n",
    "    return result"
   ]
  },
  {
   "cell_type": "code",
   "execution_count": 9,
   "metadata": {},
   "outputs": [
    {
     "data": {
      "text/plain": [
       "[2, 3, 1, None, 5, 3, None, 4, 7, 6, 8]"
      ]
     },
     "execution_count": 9,
     "metadata": {},
     "output_type": "execute_result"
    }
   ],
   "source": [
    "preorder_traverse(tree)"
   ]
  }
 ],
 "metadata": {
  "kernelspec": {
   "display_name": "Python 3",
   "language": "python",
   "name": "python3"
  },
  "language_info": {
   "codemirror_mode": {
    "name": "ipython",
    "version": 3
   },
   "file_extension": ".py",
   "mimetype": "text/x-python",
   "name": "python",
   "nbconvert_exporter": "python",
   "pygments_lexer": "ipython3",
   "version": "3.11.8"
  }
 },
 "nbformat": 4,
 "nbformat_minor": 2
}
