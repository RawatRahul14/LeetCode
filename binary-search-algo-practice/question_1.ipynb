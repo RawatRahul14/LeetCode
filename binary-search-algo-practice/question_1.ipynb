{
 "cells": [
  {
   "cell_type": "markdown",
   "metadata": {},
   "source": [
    "You are given list of numbers, obtained by rotating a sorted list an unknown number of times. Write a function to determine the minimum number of times the original sorted list was rotated to obtain the given list. Your function should have the worst-case complexity of O(log N), where N is the length of the list. You can assume that all the numbers in the list are unique.\n",
    "\n",
    "Example: The list [5, 6, 9, 0, 2, 3, 4] was obtained by rotating the sorted list [0, 2, 3, 4, 5, 6, 9] 3 times.\n",
    "\n",
    "We define \"rotating a list\" as removing the last element of the list and adding it before the first element. E.g. rotating the list [3, 2, 4, 1] produces [1, 3, 2, 4].\n",
    "\n",
    "\"Sorted list\" refers to a list where the elements are arranged in the increasing order. E.g. [1, 3, 5, 7]"
   ]
  },
  {
   "cell_type": "code",
   "execution_count": null,
   "metadata": {},
   "outputs": [],
   "source": [
    "\"\"\"\n",
    "Input: list\n",
    "Output: int\n",
    "\"\"\"\n",
    "\"\"\"\n",
    "Write a function that will return the number of times a list is being rotated, here I can return the number of values that are on the left \n",
    "side of the lowest value, and I have to use the binary search algo to get the big O notation O(log N).\n",
    "\"\"\""
   ]
  },
  {
   "cell_type": "code",
   "execution_count": null,
   "metadata": {},
   "outputs": [],
   "source": [
    "def search_num(nums: list) -> int:\n",
    "    lo, hi = 0, len(nums) - 1\n",
    "\n",
    "    mid = (lo + hi) / 2\n",
    "\n",
    "    if nums[mid] > nums[mid+1]:\n",
    "        hi = mid - 1\n",
    "    else:\n"
   ]
  }
 ],
 "metadata": {
  "kernelspec": {
   "display_name": "Python 3",
   "language": "python",
   "name": "python3"
  },
  "language_info": {
   "codemirror_mode": {
    "name": "ipython",
    "version": 3
   },
   "file_extension": ".py",
   "mimetype": "text/x-python",
   "name": "python",
   "nbconvert_exporter": "python",
   "pygments_lexer": "ipython3",
   "version": "3.11.8"
  }
 },
 "nbformat": 4,
 "nbformat_minor": 2
}
